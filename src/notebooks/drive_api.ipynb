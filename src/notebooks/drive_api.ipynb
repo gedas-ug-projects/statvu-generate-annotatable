{
 "cells": [
  {
   "cell_type": "code",
   "execution_count": null,
   "metadata": {},
   "outputs": [],
   "source": [
    "import os, sys\n",
    "dir2 = os.path.abspath('')\n",
    "dir1 = os.path.dirname(dir2)\n",
    "# if not dir1 in sys.path: sys.path.append(dir1)"
   ]
  },
  {
   "cell_type": "markdown",
   "metadata": {},
   "source": [
    "# Reset"
   ]
  },
  {
   "cell_type": "code",
   "execution_count": null,
   "metadata": {},
   "outputs": [],
   "source": [
    "import os\n",
    "try:\n",
    "    os.remove(\"../auth/token.json\")\n",
    "except:\n",
    "    print(\"No token found\")"
   ]
  },
  {
   "cell_type": "markdown",
   "metadata": {},
   "source": [
    "# Set Auth"
   ]
  },
  {
   "cell_type": "code",
   "execution_count": null,
   "metadata": {},
   "outputs": [],
   "source": [
    "import os.path\n",
    "from google.auth.transport.requests import Request\n",
    "from google.oauth2.credentials import Credentials\n",
    "from google_auth_oauthlib.flow import InstalledAppFlow\n",
    "\n",
    "creds = None\n",
    "SCOPES = [\"https://www.googleapis.com/auth/drive.readonly\"]\n",
    "\n",
    "if os.path.exists(\"../auth/token.json\"):\n",
    "    creds = Credentials.from_authorized_user_file(\"../auth/token.json\", SCOPES)\n",
    "  # If there are no (valid) credentials available, let the user log in.\n",
    "if not creds or not creds.valid:\n",
    "  if creds and creds.expired and creds.refresh_token:\n",
    "    creds.refresh(Request())\n",
    "  else:\n",
    "    flow = InstalledAppFlow.from_client_secrets_file(\n",
    "      \"../auth/credentials.json\", SCOPES\n",
    "    )\n",
    "    creds = flow.run_local_server(port=0)\n",
    "  # Save the credentials for the next run\n",
    "  with open(\"../auth/token.json\", \"w\") as token:\n",
    "    token.write(creds.to_json())"
   ]
  },
  {
   "cell_type": "markdown",
   "metadata": {},
   "source": [
    "# Demo"
   ]
  },
  {
   "cell_type": "code",
   "execution_count": null,
   "metadata": {},
   "outputs": [],
   "source": [
    "import os.path\n",
    "\n",
    "from google.auth.transport.requests import Request\n",
    "from google.oauth2.credentials import Credentials\n",
    "from google_auth_oauthlib.flow import InstalledAppFlow\n",
    "from googleapiclient.discovery import build\n",
    "from googleapiclient.errors import HttpError\n",
    "\n",
    "# If modifying these scopes, delete the file token.json.\n",
    "SCOPES = [\"https://www.googleapis.com/auth/drive.readonly\"]\n",
    "\n",
    "\n",
    "def main():\n",
    "  \"\"\"Shows basic usage of the Drive v3 API.\n",
    "  Prints the names and ids of the first 10 files the user has access to.\n",
    "  \"\"\"\n",
    "  creds = None\n",
    "  # The file token.json stores the user's access and refresh tokens, and is\n",
    "  # created automatically when the authorization flow completes for the first\n",
    "  # time.\n",
    "  if os.path.exists(\"../auth/token.json\"):\n",
    "    creds = Credentials.from_authorized_user_file(\"../auth/token.json\", SCOPES)\n",
    "  # If there are no (valid) credentials available, let the user log in.\n",
    "  if not creds or not creds.valid:  \n",
    "    if creds and creds.expired and creds.refresh_token:\n",
    "      creds.refresh(Request())\n",
    "    else:\n",
    "      flow = InstalledAppFlow.from_client_secrets_file(\n",
    "          \"../auth/credentials.json\", SCOPES\n",
    "      )\n",
    "      creds = flow.run_local_server(port=0)\n",
    "    # Save the credentials for the next run\n",
    "    with open(\"../auth/token.json\", \"w\") as token:\n",
    "      token.write(creds.to_json())\n",
    "\n",
    "  try:\n",
    "    service = build(\"drive\", \"v3\", credentials=creds)\n",
    "\n",
    "    # Call the Drive v3 API\n",
    "    results = (\n",
    "        service.files()\n",
    "        .list(pageSize=10, fields=\"nextPageToken, files(id, name)\")\n",
    "        .execute()\n",
    "    )\n",
    "\n",
    "    # Pull data from Google drive api\n",
    "\n",
    "    items = results.get(\"files\", [])\n",
    "\n",
    "    if not items:\n",
    "      print(\"No files found.\")\n",
    "      return\n",
    "    print(\"Files:\")\n",
    "    for item in items:\n",
    "      print(f\"{item['name']} ({item['id']})\")\n",
    "  except HttpError as error:\n",
    "    # TODO(developer) - Handle errors from drive API.\n",
    "    print(f\"An error occurred: {error}\")\n",
    "\n",
    "\n",
    "if __name__ == \"__main__\":\n",
    "  main()"
   ]
  },
  {
   "cell_type": "markdown",
   "metadata": {},
   "source": [
    "# Search function"
   ]
  },
  {
   "cell_type": "code",
   "execution_count": null,
   "metadata": {},
   "outputs": [],
   "source": [
    "from google.oauth2.credentials import Credentials\n",
    "from googleapiclient.discovery import build\n",
    "\n",
    "def getFileIdsInDir(query: str) -> list[list[str]]:\n",
    "    # Replace 'YOUR_TOKEN.json' with the path to your token file.\n",
    "    creds = Credentials.from_authorized_user_file('../auth/token.json')\n",
    "    service = build('drive', 'v3', credentials=creds)\n",
    "\n",
    "    # Specify the folder ID of the directory you want to read.\n",
    "\n",
    "    # Define the query to retrieve files in the specified folder.\n",
    "    # search for files & folder in root\n",
    "    # query = f\"'root' in parents\"\n",
    "\n",
    "    # Retrieve a list of files in the specified folder.\n",
    "    nextPageToken = ''\n",
    "    files = []\n",
    "    while nextPageToken != None:\n",
    "        results = service.files().list(q=query, fields=\"files(id, name, size), nextPageToken\", spaces=\"drive\", pageToken=nextPageToken, orderBy=\"name\").execute()\n",
    "        files = files + results.get('files', [])\n",
    "        nextPageToken = results.get('nextPageToken')\n",
    "\n",
    "    \n",
    "\n",
    "    # Print the name and ID of each file.\n",
    "    dir_ids = []\n",
    "    if not files:\n",
    "        print('No files found.')\n",
    "        return []\n",
    "    else:\n",
    "        # print('Files:')\n",
    "        for file in files:\n",
    "            file_size = file.get('size') if file.get(\"size\") is not None else 0\n",
    "            dir_ids.append([file.get('name'), file.get('id'), int(file_size)])\n",
    "    return dir_ids"
   ]
  },
  {
   "cell_type": "code",
   "execution_count": null,
   "metadata": {},
   "outputs": [],
   "source": [
    "# Get real id of 720\n",
    "# print(getFileIdsInDir(f\"mimeType='application/vnd.google-apps.folder' and name='720'\"))\n",
    "# Search for file in 720 with gameid 7225\n",
    "print(len(getFileIdsInDir(f\"'1-0K7OsofHtGtXQon9kJIeqyyuYgQmhO9' in parents and name contains '17725'\")))\n",
    "# Search for file in hudl-game-logs with gameid 17725\n",
    "print(getFileIdsInDir(f\"'18tXkJNA2M_W15BfkRKTizGRb4GigZMPh' in parents and name contains '17725'\"))"
   ]
  },
  {
   "cell_type": "markdown",
   "metadata": {},
   "source": [
    "# Download file"
   ]
  },
  {
   "cell_type": "code",
   "execution_count": null,
   "metadata": {},
   "outputs": [],
   "source": [
    "import io\n",
    "\n",
    "import google.auth\n",
    "from google.oauth2.credentials import Credentials\n",
    "from googleapiclient.discovery import build\n",
    "from googleapiclient.errors import HttpError\n",
    "from googleapiclient.http import MediaIoBaseDownload\n",
    "\n",
    "\n",
    "def download_file(real_file_id, output_dir: str):\n",
    "  \"\"\"Downloads a file\n",
    "  Args:\n",
    "      real_file_id: ID of the file to download\n",
    "  Returns : IO object with location.\n",
    "\n",
    "  Load pre-authorized user credentials from the environment.\n",
    "  TODO(developer) - See https://developers.google.com/identity\n",
    "  for guides on implementing OAuth2 for the application.\n",
    "  \"\"\"\n",
    "  creds = Credentials.from_authorized_user_file('../auth/token.json')\n",
    "\n",
    "  try:\n",
    "    # create drive api client\n",
    "    service = build(\"drive\", \"v3\", credentials=creds)\n",
    "\n",
    "    file_id = real_file_id\n",
    "\n",
    "    # pylint: disable=maybe-no-member\n",
    "    request = service.files().get_media(fileId=file_id)\n",
    "    file = io.BytesIO()\n",
    "    downloader = MediaIoBaseDownload(file, request)\n",
    "    done = False\n",
    "    while done is False:\n",
    "      status, done = downloader.next_chunk()\n",
    "      print(f\"Download {int(status.progress() * 100)}.\")\n",
    "\n",
    "  except HttpError as error:\n",
    "    print(f\"An error occurred: {error}\")\n",
    "    file = None\n",
    "\n",
    "  with open(output_dir, 'wb') as f:\n",
    "    f.write(file.getvalue())\n",
    "\n",
    "\n",
    "\n",
    "# if __name__ == \"__main__\":\n",
    "  # download_file(\"1_SypSPVSFTQMklGcf1d-LW5yS2YXv15P\", '../../output/first_download.md')\n"
   ]
  },
  {
   "cell_type": "markdown",
   "metadata": {},
   "source": [
    "# Script"
   ]
  },
  {
   "cell_type": "code",
   "execution_count": null,
   "metadata": {},
   "outputs": [],
   "source": [
    "videos_list = getFileIdsInDir(f\"'1-0K7OsofHtGtXQon9kJIeqyyuYgQmhO9' in parents and name contains '17647'\")\n",
    "track_list = getFileIdsInDir(f\"'1OCxnK8ssQTlD_osH9b3OsFI39lCIFbms' in parents and name contains '17647'\")\n",
    "game_log_list = getFileIdsInDir(f\"'19PadFkgZA-Z5WF_lvI_fStQpfDdIMEtD' in parents and name contains '17647'\")\n",
    "\n",
    "# for video_name, video_id in videos_list: \n",
    "#     download_file(video_id, f'../data/{video_name}')\n",
    "\n",
    "# for track_name, track_id in track_list:\n",
    "#     download_file(track_id, f'../data/{track_name}')\n",
    "\n",
    "for game_log_name, game_log_id, size in game_log_list:\n",
    "    print(game_log_id)\n",
    "    game_log_json = getFileIdsInDir(f\"'{game_log_id}' in parents\")\n",
    "    print(game_log_json)\n",
    "    break\n",
    "    for json_name, json_id, size in game_log_json:  # implied that there should only be one file in this dir\n",
    "        # download_file(json_id, f'../data/{game_log_name}.json')\n",
    "        print('Download Complete')\n",
    "    "
   ]
  },
  {
   "cell_type": "code",
   "execution_count": null,
   "metadata": {},
   "outputs": [],
   "source": [
    "# videos_list = getFileIdsInDir(f\"'1-0K7OsofHtGtXQon9kJIeqyyuYgQmhO9' in parents\")\n",
    "# track_list = getFileIdsInDir(f\"'1OCxnK8ssQTlD_osH9b3OsFI39lCIFbms' in parents\")\n",
    "game_log_list = getFileIdsInDir(f\"'19PadFkgZA-Z5WF_lvI_fStQpfDdIMEtD' in parents\")\n",
    "\n"
   ]
  },
  {
   "cell_type": "code",
   "execution_count": null,
   "metadata": {},
   "outputs": [],
   "source": [
    "game_log_list"
   ]
  },
  {
   "cell_type": "markdown",
   "metadata": {},
   "source": [
    "for game_log_name, game_log_id, size in game_log_list:\n",
    "    # game_log_json = getFileIdsInDir(f\"'{game_log_id}' in parents\")\n",
    "    game_id = game_log_name.split(\".\")[-1]\n",
    "    videos_list = getFileIdsInDir(f\"'1-0K7OsofHtGtXQon9kJIeqyyuYgQmhO9' in parents and name contains '{game_id}'\")\n",
    "    track_list = getFileIdsInDir(f\"'1OCxnK8ssQTlD_osH9b3OsFI39lCIFbms' in parents and name contains '{game_id}'\")\n",
    "    if len(track_list) > 4:\n",
    "        # print(f\"Found none matching games info for {game_id}\")\n",
    "        print(f\"Found interesting results for {game_id}\")\n",
    "        print(videos_list)\n",
    "        print(track_list)\n",
    "        print(\"=============================\")"
   ]
  },
  {
   "cell_type": "code",
   "execution_count": null,
   "metadata": {},
   "outputs": [],
   "source": [
    "l = [1, 2, 3]\n",
    "l.append(5)\n",
    "l += l\n",
    "l"
   ]
  },
  {
   "cell_type": "code",
   "execution_count": null,
   "metadata": {},
   "outputs": [],
   "source": [
    "254.86"
   ]
  }
 ],
 "metadata": {
  "kernelspec": {
   "display_name": ".venv",
   "language": "python",
   "name": "python3"
  },
  "language_info": {
   "codemirror_mode": {
    "name": "ipython",
    "version": 3
   },
   "file_extension": ".py",
   "mimetype": "text/x-python",
   "name": "python",
   "nbconvert_exporter": "python",
   "pygments_lexer": "ipython3",
   "version": "3.12.3"
  }
 },
 "nbformat": 4,
 "nbformat_minor": 2
}
